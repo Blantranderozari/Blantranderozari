{
  "nbformat": 4,
  "nbformat_minor": 0,
  "metadata": {
    "colab": {
      "provenance": [],
      "collapsed_sections": [
        "fFfUQuEVkAn_"
      ],
      "authorship_tag": "ABX9TyNoMBb+B6Uq2Jj2IziOEyFc",
      "include_colab_link": true
    },
    "kernelspec": {
      "name": "python3",
      "display_name": "Python 3"
    },
    "language_info": {
      "name": "python"
    }
  },
  "cells": [
    {
      "cell_type": "markdown",
      "metadata": {
        "id": "view-in-github",
        "colab_type": "text"
      },
      "source": [
        "<a href=\"https://colab.research.google.com/github/Blantranderozari/Blantranderozari/blob/main/Draft_Tugas_Proyek_Akhir_Dicoding.ipynb\" target=\"_parent\"><img src=\"https://colab.research.google.com/assets/colab-badge.svg\" alt=\"Open In Colab\"/></a>"
      ]
    },
    {
      "cell_type": "markdown",
      "source": [
        "# Proyek Akhir Dicoding Module: Belajar Machine Learning untuk Pemula\n",
        "oleh Antonius Blantran de Rozari"
      ],
      "metadata": {
        "id": "jTwf4oIh7WuX"
      }
    },
    {
      "cell_type": "markdown",
      "source": [
        "## Kriteria\n",
        "\n",
        "* ~Dataset yang dipakai haruslah dataset berikut : rockpaperscissors, atau gunakan link ini pada wget command: https://github.com/dicodingacademy/assets/releases/download/release/rockpaperscissors.zip.~\n",
        "* Dataset harus dibagi menjadi train set dan validation set.\n",
        "* Ukuran validation set harus 40% dari total dataset (data training memiliki 1314 sampel, dan data validasi sebanyak 874 sampel).\n",
        "* Harus mengimplementasikan augmentasi gambar.\n",
        "* Menggunakan image data generator.\n",
        "* Model harus menggunakan model sequential.\n",
        "* Pelatihan model tidak melebihi waktu 30 menit.\n",
        "* ~Program dikerjakan pada Google Colaboratory.~\n",
        "* Akurasi dari model minimal 85%.\n",
        "* Dapat memprediksi gambar yang diunggah ke Colab\n",
        "* Menambahkan data diri (sesuai profil Dicoding) pada submission/project yang dikirimkan."
      ],
      "metadata": {
        "id": "fFfUQuEVkAn_"
      }
    },
    {
      "cell_type": "markdown",
      "source": [
        "Pilihan pertama:\n",
        "1. Mulai dari awal sama sekali\n",
        "2. Mulai dengan best weight result dan lanjutkan training\n",
        "3. Langsung deteksi\n",
        "\n",
        "\n",
        "\n"
      ],
      "metadata": {
        "id": "2KX84_PybLah"
      }
    },
    {
      "cell_type": "markdown",
      "source": [
        "## Aktifkan GPU\n"
      ],
      "metadata": {
        "id": "3kRvbkpq6u4d"
      }
    },
    {
      "cell_type": "code",
      "source": [
        "# Gunakan GPU yang disediakan oleh Google Colab\n",
        "import tensorflow as tf \n",
        "print(f\"Versi tensorflow {tf.__version__}\")\n",
        "\n",
        "if (tf.config.list_physical_devices('GPU')):\n",
        "  print(f\"Tersedia GPU sejumlah {len(tf.config.list_physical_devices('GPU'))} dengan name {tf.test.gpu_device_name()}\")\n",
        "else:\n",
        "  print(\"GPU tidak diaktifkan atau belum tersedia saat ini\")\n"
      ],
      "metadata": {
        "colab": {
          "base_uri": "https://localhost:8080/"
        },
        "id": "E0u-SwYH11HS",
        "outputId": "446f6f25-8f6e-4f76-fa85-c276588f7f27"
      },
      "execution_count": 1,
      "outputs": [
        {
          "output_type": "stream",
          "name": "stdout",
          "text": [
            "Versi tensorflow 2.9.2\n",
            "GPU tidak diaktifkan atau belum tersedia saat ini\n"
          ]
        }
      ]
    },
    {
      "cell_type": "code",
      "source": [
        "#!wget https://github.com/dicodingacademy/assets/releases/download/release/rockpaperscissors.zip\n",
        "#!unzip rockpaperscissors.zip"
      ],
      "metadata": {
        "id": "r9dkd5SkerLS"
      },
      "execution_count": 2,
      "outputs": []
    },
    {
      "cell_type": "markdown",
      "source": [
        "## Unduh data dan tampilkan contoh citra tiap kategor\n",
        "\n",
        "Dataset menyimpan 2.188 citra yang terbagi atas 3 kelas yaitu: 'Rock' (726 citra), 'Paper' (710 citra) and 'Scissors' (752 citra) dalam format png berukuran 300 x 200 pixels. Setiap kelas citra disimpan dalam tiga sub-folders dengan nama sesuai dengan kelasnya masing-masing."
      ],
      "metadata": {
        "id": "NpJVNnyEh8so"
      }
    },
    {
      "cell_type": "code",
      "source": [
        "import pathlib\n",
        "import tensorflow as tf\n",
        "from tensorflow.keras.utils import get_file\n",
        "\n",
        "url_data = \"https://github.com/dicodingacademy/assets/releases/download/release/rockpaperscissors.zip\"\n",
        "base_dir = get_file(origin=url_data, cache_dir=\"/contents\", \n",
        "                    archive_format='auto', extract=True)\n",
        "base_dir = pathlib.Path(base_dir)\n",
        "print(base_dir)\n",
        "image_count = len(list(base_dir.glob('*/*.png')))\n",
        "print(image_count)\n",
        "\n",
        "#import os\n",
        "\n",
        "#base_dir = os.getcwd()\n",
        "#base_dir = os.path.join(base_dir,'rockpaperscissors')\n",
        "#jumlah_citra = len(list(base_dir.glob('*/*.png')))"
      ],
      "metadata": {
        "colab": {
          "base_uri": "https://localhost:8080/"
        },
        "id": "g3YNcs0xvL3X",
        "outputId": "37422e4a-45e0-4899-d69c-1392120fae34"
      },
      "execution_count": 23,
      "outputs": [
        {
          "output_type": "stream",
          "name": "stdout",
          "text": [
            "Downloading data from https://github.com/dicodingacademy/assets/releases/download/release/rockpaperscissors.zip\n",
            "322873683/322873683 [==============================] - 2s 0us/step\n",
            "/tmp/.keras/datasets/rockpaperscissors.zip\n",
            "0\n"
          ]
        }
      ]
    },
    {
      "cell_type": "code",
      "source": [
        "image_count = len(list(base_dir.glob('*/*.png')))\n",
        "print(image_count)"
      ],
      "metadata": {
        "colab": {
          "base_uri": "https://localhost:8080/"
        },
        "id": "gY34Jh_GPPxJ",
        "outputId": "fc7f3207-962a-48f6-c020-e368ce9c23bc"
      },
      "execution_count": 24,
      "outputs": [
        {
          "output_type": "stream",
          "name": "stdout",
          "text": [
            "0\n"
          ]
        }
      ]
    },
    {
      "cell_type": "code",
      "source": [
        "import os\n",
        "\n",
        "kategori = ['rock', 'paper', 'scissors']\n",
        "\n",
        "base_dir = os.getcwd()\n",
        "base_dir = os.path.join(base_dir,'rockpaperscissors')"
      ],
      "metadata": {
        "id": "1bNO7TDEPNcu"
      },
      "execution_count": null,
      "outputs": []
    },
    {
      "cell_type": "code",
      "source": [
        "import numpy as np\n",
        "import matplotlib.pyplot as plt\n",
        "\n",
        "fig, ax = plt.subplots(nrows=3, ncols=5)\n",
        "\n",
        "for path in kategori:\n",
        "  cur_dir = os.path.join(base_dir, path)\n",
        "  os.chdir(cur_dir)\n",
        "  files = os.listdir(cur_dir)\n",
        "  for img in files[:5]:\n",
        "     image = plt.imread(img)\n",
        "\n",
        "plt.axis('off')\n",
        "plt.imshow(image)\n",
        "#train_dir = os.path.join(base_dir,'train')\n",
        "#validation_dir = os.path.join(base_dir, 'val')"
      ],
      "metadata": {
        "colab": {
          "base_uri": "https://localhost:8080/",
          "height": 286
        },
        "id": "1fm_B_4m1myo",
        "outputId": "26d2eaca-7f37-4c1b-bd89-2c368d4374f8"
      },
      "execution_count": 21,
      "outputs": [
        {
          "output_type": "execute_result",
          "data": {
            "text/plain": [
              "<matplotlib.image.AxesImage at 0x7fa792f04710>"
            ]
          },
          "metadata": {},
          "execution_count": 21
        },
        {
          "output_type": "display_data",
          "data": {
            "text/plain": [
              "<Figure size 432x288 with 15 Axes>"
            ],
            "image/png": "[encoded data removed]"
          },
          "metadata": {
            "needs_background": "light"
          }
        }
      ]
    },
    {
      "cell_type": "markdown",
      "source": [
        "## Proses Augmentasi Citra dan generate data \n",
        "untuk pelatihan dan validasi "
      ],
      "metadata": {
        "id": "lKFLbjNFka9H"
      }
    },
    {
      "cell_type": "code",
      "source": [
        "# Proses Augmentasi citra\n",
        "\n",
        "#from tensorflow.keras.preprocesing.image import ImageDataGenerator --> tidak dianjurkan karena sudah diganti dengan\n",
        "from tf.keras.utils import image_dataset_from_directory\n",
        "\n",
        "data_latihan = ImageDataGenerator(\n",
        "    rescale = 1./255,\n",
        "    rotation_range = 45,    # nominal 20 derajat\n",
        "    horizontal_flip = True, # mungkin harus mencoba vertical_flip untuk melihat pengaruhnya\n",
        "    shear_range = 0.5       # nominal 0.2 derajat\n",
        "    validation_split = 0.4  # porsi data untuk validasi \n",
        ")\n",
        "\n",
        "data_validasi = ImageDataGenerator(\n",
        "    rescale = 1./255.\n",
        ")"
      ],
      "metadata": {
        "id": "pmRsTxHhhATs"
      },
      "execution_count": 5,
      "outputs": []
    },
    {
      "cell_type": "code",
      "source": [
        "# Iterasi untuk membuat data citra untuk pelatihan dan validasi\n",
        "citra_latihan = data_latihan.flowfromdirectory()"
      ],
      "metadata": {
        "id": "6Ps9agKa0mCZ"
      },
      "execution_count": null,
      "outputs": []
    }
  ]
}