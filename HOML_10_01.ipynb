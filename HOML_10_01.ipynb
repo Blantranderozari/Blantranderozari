{
  "nbformat": 4,
  "nbformat_minor": 0,
  "metadata": {
    "colab": {
      "provenance": [],
      "collapsed_sections": [],
      "authorship_tag": "ABX9TyOgvBL24qlIy0/uDynlvX8s",
      "include_colab_link": true
    },
    "kernelspec": {
      "name": "python3",
      "display_name": "Python 3"
    },
    "language_info": {
      "name": "python"
    },
    "accelerator": "GPU"
  },
  "cells": [
    {
      "cell_type": "markdown",
      "metadata": {
        "id": "view-in-github",
        "colab_type": "text"
      },
      "source": [
        "<a href=\"https://colab.research.google.com/github/Blantranderozari/Blantranderozari/blob/main/HOML_10_01.ipynb\" target=\"_parent\"><img src=\"https://colab.research.google.com/assets/colab-badge.svg\" alt=\"Open In Colab\"/></a>"
      ]
    },
    {
      "cell_type": "markdown",
      "source": [
        "# Building Image Classifier using Sequentials API\n",
        "\n",
        "Taken from *Hands-on Machine Learning with Scikit-Learn and Tensorflow* Chap 10 page 294\n",
        "\n",
        "The dataset Fashion MNIST are 70,000 grayscale images of 28 x 28 pixels with 10 classes "
      ],
      "metadata": {
        "id": "RoBlY6iZ0CN2"
      }
    },
    {
      "cell_type": "code",
      "source": [
        "import tensorflow as tf\n",
        "from tensorflow import keras\n",
        "\n",
        "# load dataset\n",
        "fashion_mnist = keras.datasets.fashion_mnist\n",
        "(X_train_full, y_train_full), (X_test, y_test) = fashion_mnist.load_data()"
      ],
      "metadata": {
        "id": "U6JT_v320BhZ",
        "colab": {
          "base_uri": "https://localhost:8080/"
        },
        "outputId": "096b00bc-d702-4478-9a1d-28a10aa82abf"
      },
      "execution_count": 6,
      "outputs": [
        {
          "output_type": "stream",
          "name": "stdout",
          "text": [
            "Downloading data from https://storage.googleapis.com/tensorflow/tf-keras-datasets/train-labels-idx1-ubyte.gz\n",
            "29515/29515 [==============================] - 0s 0us/step\n",
            "Downloading data from https://storage.googleapis.com/tensorflow/tf-keras-datasets/train-images-idx3-ubyte.gz\n",
            "26421880/26421880 [==============================] - 0s 0us/step\n",
            "Downloading data from https://storage.googleapis.com/tensorflow/tf-keras-datasets/t10k-labels-idx1-ubyte.gz\n",
            "5148/5148 [==============================] - 0s 0us/step\n",
            "Downloading data from https://storage.googleapis.com/tensorflow/tf-keras-datasets/t10k-images-idx3-ubyte.gz\n",
            "4422102/4422102 [==============================] - 0s 0us/step\n"
          ]
        }
      ]
    },
    {
      "cell_type": "markdown",
      "source": [
        "When loading MNIST or Fashion MNIST using Keras rather than Scikit-Learn, one\n",
        "important difference is that every image is represented as a 28×28 array rather than a\n",
        "1D array of size 784. Moreover, the pixel intensities are represented as grayscale images, i.e. integers (from\n",
        "0 to 255) rather than floats (from 0.0 to 255.0). 60,000 images will be used for training, while 10,000 as test"
      ],
      "metadata": {
        "id": "Amu-hwcdBXCa"
      }
    },
    {
      "cell_type": "code",
      "execution_count": 7,
      "metadata": {
        "id": "F8nYOSUAztYU",
        "colab": {
          "base_uri": "https://localhost:8080/"
        },
        "outputId": "d0432ac7-7180-4ffd-be9c-8b91d951ee84"
      },
      "outputs": [
        {
          "output_type": "execute_result",
          "data": {
            "text/plain": [
              "((60000, 28, 28), dtype('uint8'))"
            ]
          },
          "metadata": {},
          "execution_count": 7
        }
      ],
      "source": [
        "X_train_full.shape, X_train_full.dtype"
      ]
    },
    {
      "cell_type": "markdown",
      "source": [
        "We are going to take first 5,000 of the training datasets as validation sets and map the pixel intensities to 0 - 1 range, by dividing them with 255. "
      ],
      "metadata": {
        "id": "4AcEjjPMD5j1"
      }
    },
    {
      "cell_type": "code",
      "source": [
        "X_valid, X_train = X_train_full[:5000] / 255, X_train_full[5000:] / 255\n",
        "y_valid, y_train = y_train_full[:5000], y_train_full[5000:]\n",
        "X_test = X_test / 255"
      ],
      "metadata": {
        "id": "pzUu2ArxHo8q"
      },
      "execution_count": 8,
      "outputs": []
    },
    {
      "cell_type": "markdown",
      "source": [
        "Let's look at 10 first image of the training data, starting by initiating class name of the fashion products"
      ],
      "metadata": {
        "id": "wRLdz2qdLbkU"
      }
    },
    {
      "cell_type": "code",
      "source": [
        "class_names = [\"T-shirt/top\", \"trouser\", \"Pullover\", \"Dress\", \"Coat\",\n",
        "              \"Sandal\", \"Shirt\", \"Sneaker\", \"Bag\", \"Ankle boot\"]\n",
        "\n",
        "import matplotlib.pyplot as plt\n",
        "\n",
        "n_rows = 4\n",
        "n_cols = 10\n",
        "plt.figure(figsize=(n_cols * 1.2, n_rows * 1.2))\n",
        "for row in range(n_rows):\n",
        "    for col in range(n_cols):\n",
        "        index = n_cols * row + col\n",
        "        plt.subplot(n_rows, n_cols, index + 1)\n",
        "        plt.imshow(X_train[index], cmap=\"binary\", interpolation=\"nearest\")\n",
        "        plt.axis('off')\n",
        "        plt.title(class_names[y_train[index]], fontsize=12)\n",
        "plt.subplots_adjust(wspace=0.2, hspace=0.5)\n",
        "#save_fig('fashion_mnist_plot', tight_layout=False)\n",
        "plt.show()"
      ],
      "metadata": {
        "colab": {
          "base_uri": "https://localhost:8080/",
          "height": 308
        },
        "id": "xnBVTxyELQgm",
        "outputId": "cb5249ec-ef05-4dde-ad65-6e58ea37cc22"
      },
      "execution_count": 9,
      "outputs": [
        {
          "output_type": "display_data",
          "data": {
            "text/plain": [
              "<Figure size 864x345.6 with 40 Axes>"
            ],
            "image/png": "[encoded data removed]"
          },
          "metadata": {
            "needs_background": "light"
          }
        }
      ]
    },
    {
      "cell_type": "markdown",
      "source": [
        "### Creating Model with Sequentials API\n",
        "A classification MLP (Multi Layer Perceptron) with Input layer for 28 x 28 pixels and flattened to 784 node\n"
      ],
      "metadata": {
        "id": "wslYI3gZPMDw"
      }
    },
    {
      "cell_type": "code",
      "source": [
        "model = keras.models.Sequential()\n",
        "model.add(keras.layers.Flatten(input_shape=[28,28]))\n",
        "model.add(keras.layers.Dense(300,activation=\"relu\"))\n",
        "model.add(keras.layers.Dense(100,activation=\"relu\"))\n",
        "model.add(keras.layers.Dense(10,activation=\"softmax\"))\n",
        "\n",
        "model.layers"
      ],
      "metadata": {
        "colab": {
          "base_uri": "https://localhost:8080/"
        },
        "id": "bFtgYxIARfjE",
        "outputId": "dc07ac2d-f8d7-4c19-fffc-b5583f0b1050"
      },
      "execution_count": 10,
      "outputs": [
        {
          "output_type": "execute_result",
          "data": {
            "text/plain": [
              "[<keras.layers.reshaping.flatten.Flatten at 0x7f58e002ebd0>,\n",
              " <keras.layers.core.dense.Dense at 0x7f58e002ef50>,\n",
              " <keras.layers.core.dense.Dense at 0x7f588a477b90>,\n",
              " <keras.layers.core.dense.Dense at 0x7f58e0118290>]"
            ]
          },
          "metadata": {},
          "execution_count": 10
        }
      ]
    },
    {
      "cell_type": "markdown",
      "source": [
        "The model summary below show us there are 235,500 parameters. This comes from weights + bias = (784 x 300) + 300. The same also apply to next two layers."
      ],
      "metadata": {
        "id": "zXmIBLOslgFS"
      }
    },
    {
      "cell_type": "code",
      "source": [
        "model.summary()"
      ],
      "metadata": {
        "colab": {
          "base_uri": "https://localhost:8080/"
        },
        "id": "m9WOq5o-k79f",
        "outputId": "34258f22-ddf4-44b2-f904-4bed3304af88"
      },
      "execution_count": 11,
      "outputs": [
        {
          "output_type": "stream",
          "name": "stdout",
          "text": [
            "Model: \"sequential_3\"\n",
            "_________________________________________________________________\n",
            " Layer (type)                Output Shape              Param #   \n",
            "=================================================================\n",
            " flatten (Flatten)           (None, 784)               0         \n",
            "                                                                 \n",
            " dense_6 (Dense)             (None, 300)               235500    \n",
            "                                                                 \n",
            " dense_7 (Dense)             (None, 100)               30100     \n",
            "                                                                 \n",
            " dense_8 (Dense)             (None, 10)                1010      \n",
            "                                                                 \n",
            "=================================================================\n",
            "Total params: 266,610\n",
            "Trainable params: 266,610\n",
            "Non-trainable params: 0\n",
            "_________________________________________________________________\n"
          ]
        }
      ]
    },
    {
      "cell_type": "code",
      "source": [
        "model.compile(loss=\"sparse_categorical_crossentropy\",\n",
        "              optimizer=\"sgd\", metrics=[\"Accuracy\"])"
      ],
      "metadata": {
        "id": "PW9d7KeIoHGs"
      },
      "execution_count": 12,
      "outputs": []
    },
    {
      "cell_type": "markdown",
      "source": [
        "This requires some explanation. First, we use the \"**sparse_categorical_crossentropy**\" loss because we have sparse labels (i.e., for each instance there are probabilities of the instance belong to the class). The highest probabilities show the instances belong to that class.\n",
        "\n",
        "If instead we had one target probability per class for each instance (such as one-hot vectors, e.g. [0.,\n",
        "0., 0., 1., 0., 0., 0., 0., 0., 0.] to represent class 3), then we would need to use the \"categorical_crossentropy\" loss instead.\n",
        "\n",
        "Regarding the optimizer, \"sgd\" simply means that we will train the model using simple **Stochastic Gradient Descent**."
      ],
      "metadata": {
        "id": "NbeRoIx9o5sJ"
      }
    },
    {
      "cell_type": "markdown",
      "source": [
        "### Train and evaluate the model"
      ],
      "metadata": {
        "id": "AtS0Wc_Grlws"
      }
    },
    {
      "cell_type": "code",
      "source": [
        "history = model.fit(X_train, y_train, epochs=30, validation_data=(X_valid, y_valid))"
      ],
      "metadata": {
        "colab": {
          "base_uri": "https://localhost:8080/"
        },
        "id": "WKf8l204r9dq",
        "outputId": "be50d73e-30e4-456b-f930-7729f26930ff"
      },
      "execution_count": 13,
      "outputs": [
        {
          "output_type": "stream",
          "name": "stdout",
          "text": [
            "Epoch 1/30\n",
            "1719/1719 [==============================] - 6s 3ms/step - loss: 0.7238 - Accuracy: 0.7662 - val_loss: 0.5540 - val_Accuracy: 0.8096\n",
            "Epoch 2/30\n",
            "1719/1719 [==============================] - 5s 3ms/step - loss: 0.4887 - Accuracy: 0.8301 - val_loss: 0.4687 - val_Accuracy: 0.8346\n",
            "Epoch 3/30\n",
            "1719/1719 [==============================] - 5s 3ms/step - loss: 0.4457 - Accuracy: 0.8453 - val_loss: 0.4232 - val_Accuracy: 0.8582\n",
            "Epoch 4/30\n",
            "1719/1719 [==============================] - 5s 3ms/step - loss: 0.4185 - Accuracy: 0.8537 - val_loss: 0.4214 - val_Accuracy: 0.8542\n",
            "Epoch 5/30\n",
            "1719/1719 [==============================] - 5s 3ms/step - loss: 0.3991 - Accuracy: 0.8598 - val_loss: 0.3958 - val_Accuracy: 0.8642\n",
            "Epoch 6/30\n",
            "1719/1719 [==============================] - 5s 3ms/step - loss: 0.3820 - Accuracy: 0.8656 - val_loss: 0.4071 - val_Accuracy: 0.8626\n",
            "Epoch 7/30\n",
            "1719/1719 [==============================] - 5s 3ms/step - loss: 0.3704 - Accuracy: 0.8696 - val_loss: 0.3840 - val_Accuracy: 0.8704\n",
            "Epoch 8/30\n",
            "1719/1719 [==============================] - 5s 3ms/step - loss: 0.3584 - Accuracy: 0.8731 - val_loss: 0.3588 - val_Accuracy: 0.8778\n",
            "Epoch 9/30\n",
            "1719/1719 [==============================] - 5s 3ms/step - loss: 0.3484 - Accuracy: 0.8768 - val_loss: 0.3560 - val_Accuracy: 0.8774\n",
            "Epoch 10/30\n",
            "1719/1719 [==============================] - 5s 3ms/step - loss: 0.3389 - Accuracy: 0.8789 - val_loss: 0.3394 - val_Accuracy: 0.8828\n",
            "Epoch 11/30\n",
            "1719/1719 [==============================] - 6s 3ms/step - loss: 0.3303 - Accuracy: 0.8829 - val_loss: 0.3495 - val_Accuracy: 0.8794\n",
            "Epoch 12/30\n",
            "1719/1719 [==============================] - 5s 3ms/step - loss: 0.3227 - Accuracy: 0.8840 - val_loss: 0.3401 - val_Accuracy: 0.8800\n",
            "Epoch 13/30\n",
            "1719/1719 [==============================] - 5s 3ms/step - loss: 0.3157 - Accuracy: 0.8864 - val_loss: 0.3335 - val_Accuracy: 0.8818\n",
            "Epoch 14/30\n",
            "1719/1719 [==============================] - 5s 3ms/step - loss: 0.3084 - Accuracy: 0.8892 - val_loss: 0.3490 - val_Accuracy: 0.8774\n",
            "Epoch 15/30\n",
            "1719/1719 [==============================] - 5s 3ms/step - loss: 0.3024 - Accuracy: 0.8911 - val_loss: 0.3410 - val_Accuracy: 0.8796\n",
            "Epoch 16/30\n",
            "1719/1719 [==============================] - 5s 3ms/step - loss: 0.2958 - Accuracy: 0.8940 - val_loss: 0.3223 - val_Accuracy: 0.8818\n",
            "Epoch 17/30\n",
            "1719/1719 [==============================] - 5s 3ms/step - loss: 0.2896 - Accuracy: 0.8955 - val_loss: 0.3294 - val_Accuracy: 0.8838\n",
            "Epoch 18/30\n",
            "1719/1719 [==============================] - 5s 3ms/step - loss: 0.2847 - Accuracy: 0.8969 - val_loss: 0.3086 - val_Accuracy: 0.8908\n",
            "Epoch 19/30\n",
            "1719/1719 [==============================] - 5s 3ms/step - loss: 0.2796 - Accuracy: 0.8987 - val_loss: 0.3074 - val_Accuracy: 0.8884\n",
            "Epoch 20/30\n",
            "1719/1719 [==============================] - 5s 3ms/step - loss: 0.2742 - Accuracy: 0.9006 - val_loss: 0.3091 - val_Accuracy: 0.8874\n",
            "Epoch 21/30\n",
            "1719/1719 [==============================] - 5s 3ms/step - loss: 0.2688 - Accuracy: 0.9028 - val_loss: 0.3192 - val_Accuracy: 0.8870\n",
            "Epoch 22/30\n",
            "1719/1719 [==============================] - 5s 3ms/step - loss: 0.2642 - Accuracy: 0.9046 - val_loss: 0.3065 - val_Accuracy: 0.8906\n",
            "Epoch 23/30\n",
            "1719/1719 [==============================] - 5s 3ms/step - loss: 0.2598 - Accuracy: 0.9061 - val_loss: 0.3076 - val_Accuracy: 0.8870\n",
            "Epoch 24/30\n",
            "1719/1719 [==============================] - 5s 3ms/step - loss: 0.2557 - Accuracy: 0.9074 - val_loss: 0.3059 - val_Accuracy: 0.8884\n",
            "Epoch 25/30\n",
            "1719/1719 [==============================] - 5s 3ms/step - loss: 0.2518 - Accuracy: 0.9083 - val_loss: 0.3056 - val_Accuracy: 0.8896\n",
            "Epoch 26/30\n",
            "1719/1719 [==============================] - 5s 3ms/step - loss: 0.2473 - Accuracy: 0.9111 - val_loss: 0.3109 - val_Accuracy: 0.8886\n",
            "Epoch 27/30\n",
            "1719/1719 [==============================] - 5s 3ms/step - loss: 0.2442 - Accuracy: 0.9118 - val_loss: 0.3032 - val_Accuracy: 0.8920\n",
            "Epoch 28/30\n",
            "1719/1719 [==============================] - 5s 3ms/step - loss: 0.2396 - Accuracy: 0.9131 - val_loss: 0.3010 - val_Accuracy: 0.8908\n",
            "Epoch 29/30\n",
            "1719/1719 [==============================] - 5s 3ms/step - loss: 0.2361 - Accuracy: 0.9144 - val_loss: 0.3002 - val_Accuracy: 0.8886\n",
            "Epoch 30/30\n",
            "1719/1719 [==============================] - 5s 3ms/step - loss: 0.2312 - Accuracy: 0.9171 - val_loss: 0.3132 - val_Accuracy: 0.8850\n"
          ]
        }
      ]
    },
    {
      "cell_type": "code",
      "source": [
        "import pandas as pd\n",
        "\n",
        "pd.DataFrame(history.history).plot(figsize=(8,5))\n",
        "plt.grid(True)\n",
        "plt.gca().set_ylim(0,1) #set the vertical limit to [0,1]\n",
        "plt.show()"
      ],
      "metadata": {
        "colab": {
          "base_uri": "https://localhost:8080/",
          "height": 324
        },
        "id": "yFIfYYV8vZSc",
        "outputId": "1cc5856e-5a51-42c3-c0ea-2abc8f7dff60"
      },
      "execution_count": 14,
      "outputs": [
        {
          "output_type": "display_data",
          "data": {
            "text/plain": [
              "<Figure size 576x360 with 1 Axes>"
            ],
            "image/png": "[encoded data removed]"
          },
          "metadata": {
            "needs_background": "light"
          }
        }
      ]
    },
    {
      "cell_type": "code",
      "source": [
        "model.evaluate(X_test, y_test)"
      ],
      "metadata": {
        "colab": {
          "base_uri": "https://localhost:8080/"
        },
        "id": "o6l-JfXX30Om",
        "outputId": "90212337-e99f-436c-a6cd-eef4c052ded3"
      },
      "execution_count": 15,
      "outputs": [
        {
          "output_type": "stream",
          "name": "stdout",
          "text": [
            "313/313 [==============================] - 1s 2ms/step - loss: 0.3491 - Accuracy: 0.8746\n"
          ]
        },
        {
          "output_type": "execute_result",
          "data": {
            "text/plain": [
              "[0.3490801155567169, 0.8745999932289124]"
            ]
          },
          "metadata": {},
          "execution_count": 15
        }
      ]
    },
    {
      "cell_type": "markdown",
      "source": [
        "### Use the model to make prediction\n",
        "We use first 10 item from the test dataset"
      ],
      "metadata": {
        "id": "zbVhYFcB49xk"
      }
    },
    {
      "cell_type": "code",
      "source": [
        "X_new = X_test[:10]\n",
        "y_proba = model.predict(X_new);\n",
        "#y_proba.round(2)\n",
        "\n",
        "plt.figure(figsize=(21,2.4))\n",
        "for index,image in enumerate(X_new):\n",
        "  plt.subplot(1, 10, index + 1)\n",
        "  plt.imshow(image, cmap=\"binary\", interpolation=\"nearest\");\n",
        "  plt.axis('off')\n",
        "  plt.title(class_names[y_test[index]], fontsize=12)\n",
        "plt.subplots_adjust(wspace=0.2, hspace=0.5)\n",
        "#save_fig('fashion_mnist_images_plot', tight_layout=False)\n",
        "plt.show()"
      ],
      "metadata": {
        "colab": {
          "base_uri": "https://localhost:8080/",
          "height": 160
        },
        "id": "xT2v03rf5ihR",
        "outputId": "51a9fdfe-51fc-4120-9966-feb98fb8d7ec"
      },
      "execution_count": 16,
      "outputs": [
        {
          "output_type": "stream",
          "name": "stdout",
          "text": [
            "1/1 [==============================] - 0s 50ms/step\n"
          ]
        },
        {
          "output_type": "display_data",
          "data": {
            "text/plain": [
              "<Figure size 1512x172.8 with 10 Axes>"
            ],
            "image/png": "[encoded data removed]"
          },
          "metadata": {
            "needs_background": "light"
          }
        }
      ]
    },
    {
      "cell_type": "markdown",
      "source": [
        "# Building a Regression MLP using the Sequential API\n",
        "Taken from page 303\n",
        "We will use California housing data from scikit-learn"
      ],
      "metadata": {
        "id": "-mvcL7NUJoqO"
      }
    },
    {
      "cell_type": "code",
      "source": [
        "from sklearn.datasets import fetch_california_housing\n",
        "from sklearn.model_selection import train_test_split\n",
        "from sklearn.preprocessing import StandardScaler\n",
        "\n",
        "housing = fetch_california_housing()\n",
        "\n",
        "X_train_full, X_test, y_train_full, y_test = train_test_split(\n",
        "    housing.data, housing.target, random_state=42)\n",
        "X_train, X_valid, y_train, y_valid = train_test_split(\n",
        "    X_train_full, y_train_full, random_state=42)\n",
        "\n",
        "scaler = StandardScaler()\n",
        "X_train = scaler.fit_transform(X_train)\n",
        "X_valid = scaler.transform(X_valid)\n",
        "X_test = scaler.transform(X_test)\n",
        "\n",
        "import numpy as np\n",
        "import tensorflow as tf\n",
        "\n",
        "np.random.seed(42)\n",
        "tf.random.set_seed(42)\n"
      ],
      "metadata": {
        "id": "ygV26XQwKNXs"
      },
      "execution_count": 47,
      "outputs": []
    },
    {
      "cell_type": "markdown",
      "source": [
        "Notes on the code above:\n",
        "1. The **fit(data)** method is used to compute the mean and std dev for a given feature to be used further for scaling.\n",
        "2. The **transform(data)** method is used to perform scaling using mean and std dev calculated coming from the fit() method above.\n",
        "3. The **fit_transform()** method does both fits and transform.\n",
        "\n",
        "So we use fit_transform on training data to get the mean and std deviation while performing the scaling at the same time. These very same mean and std deviation are used for the test data (and validation data as well).\n",
        "\n",
        "If we use the fit_transform method on our test or validation data , we will get a new mean and variance which different from those we get from the training data. This means the model is forced to re-learn from test or validation data."
      ],
      "metadata": {
        "id": "h8RgL-cVR2Zx"
      }
    },
    {
      "cell_type": "code",
      "source": [
        "from tensorflow import keras\n",
        "\n",
        "model = keras.models.Sequential([\n",
        "    keras.layers.Dense(30, activation=\"relu\", input_shape=X_train.shape[1:]),\n",
        "    keras.layers.Dense(1)\n",
        "])\n",
        "model.compile(loss=\"mean_squared_error\", optimizer=keras.optimizers.SGD(learning_rate=1e-3))\n",
        "history = model.fit(X_train,y_train,epochs=30,\n",
        "                    validation_data=(X_valid,y_valid))"
      ],
      "metadata": {
        "id": "5IMpQhT-dHcV",
        "outputId": "65cf4afa-51f5-4463-a9f0-cfab679e22d5",
        "colab": {
          "base_uri": "https://localhost:8080/"
        }
      },
      "execution_count": 48,
      "outputs": [
        {
          "output_type": "stream",
          "name": "stdout",
          "text": [
            "Epoch 1/30\n",
            "363/363 [==============================] - 1s 3ms/step - loss: 1.6419 - val_loss: 0.8560\n",
            "Epoch 2/30\n",
            "363/363 [==============================] - 1s 3ms/step - loss: 0.7047 - val_loss: 0.6531\n",
            "Epoch 3/30\n",
            "363/363 [==============================] - 1s 3ms/step - loss: 0.6345 - val_loss: 0.6099\n",
            "Epoch 4/30\n",
            "363/363 [==============================] - 1s 3ms/step - loss: 0.5977 - val_loss: 0.5658\n",
            "Epoch 5/30\n",
            "363/363 [==============================] - 1s 3ms/step - loss: 0.5706 - val_loss: 0.5355\n",
            "Epoch 6/30\n",
            "363/363 [==============================] - 1s 3ms/step - loss: 0.5472 - val_loss: 0.5173\n",
            "Epoch 7/30\n",
            "363/363 [==============================] - 1s 3ms/step - loss: 0.5288 - val_loss: 0.5081\n",
            "Epoch 8/30\n",
            "363/363 [==============================] - 1s 3ms/step - loss: 0.5130 - val_loss: 0.4799\n",
            "Epoch 9/30\n",
            "363/363 [==============================] - 1s 3ms/step - loss: 0.4992 - val_loss: 0.4690\n",
            "Epoch 10/30\n",
            "363/363 [==============================] - 1s 3ms/step - loss: 0.4875 - val_loss: 0.4656\n",
            "Epoch 11/30\n",
            "363/363 [==============================] - 1s 3ms/step - loss: 0.4777 - val_loss: 0.4482\n",
            "Epoch 12/30\n",
            "363/363 [==============================] - 1s 3ms/step - loss: 0.4688 - val_loss: 0.4479\n",
            "Epoch 13/30\n",
            "363/363 [==============================] - 1s 3ms/step - loss: 0.4615 - val_loss: 0.4296\n",
            "Epoch 14/30\n",
            "363/363 [==============================] - 1s 3ms/step - loss: 0.4547 - val_loss: 0.4233\n",
            "Epoch 15/30\n",
            "363/363 [==============================] - 1s 3ms/step - loss: 0.4488 - val_loss: 0.4176\n",
            "Epoch 16/30\n",
            "363/363 [==============================] - 1s 3ms/step - loss: 0.4435 - val_loss: 0.4123\n",
            "Epoch 17/30\n",
            "363/363 [==============================] - 1s 3ms/step - loss: 0.4389 - val_loss: 0.4071\n",
            "Epoch 18/30\n",
            "363/363 [==============================] - 2s 5ms/step - loss: 0.4347 - val_loss: 0.4037\n",
            "Epoch 19/30\n",
            "363/363 [==============================] - 2s 6ms/step - loss: 0.4306 - val_loss: 0.4000\n",
            "Epoch 20/30\n",
            "363/363 [==============================] - 1s 4ms/step - loss: 0.4273 - val_loss: 0.3969\n",
            "Epoch 21/30\n",
            "363/363 [==============================] - 1s 3ms/step - loss: 0.4240 - val_loss: 0.3938\n",
            "Epoch 22/30\n",
            "363/363 [==============================] - 1s 3ms/step - loss: 0.4211 - val_loss: 0.3913\n",
            "Epoch 23/30\n",
            "363/363 [==============================] - 1s 3ms/step - loss: 0.4183 - val_loss: 0.3884\n",
            "Epoch 24/30\n",
            "363/363 [==============================] - 1s 3ms/step - loss: 0.4158 - val_loss: 0.3871\n",
            "Epoch 25/30\n",
            "363/363 [==============================] - 1s 3ms/step - loss: 0.4135 - val_loss: 0.3857\n",
            "Epoch 26/30\n",
            "363/363 [==============================] - 1s 3ms/step - loss: 0.4115 - val_loss: 0.3818\n",
            "Epoch 27/30\n",
            "363/363 [==============================] - 1s 3ms/step - loss: 0.4096 - val_loss: 0.3800\n",
            "Epoch 28/30\n",
            "363/363 [==============================] - 1s 3ms/step - loss: 0.4077 - val_loss: 0.3794\n",
            "Epoch 29/30\n",
            "363/363 [==============================] - 1s 3ms/step - loss: 0.4061 - val_loss: 0.3769\n",
            "Epoch 30/30\n",
            "363/363 [==============================] - 1s 3ms/step - loss: 0.4045 - val_loss: 0.3763\n"
          ]
        }
      ]
    },
    {
      "cell_type": "code",
      "source": [
        "mse_test = model.evaluate(X_test,y_test)\n",
        "mse_test"
      ],
      "metadata": {
        "id": "pcElX1FWfagp",
        "outputId": "10a639ea-2bc6-4940-f19b-3dc726ce0a5c",
        "colab": {
          "base_uri": "https://localhost:8080/"
        }
      },
      "execution_count": 49,
      "outputs": [
        {
          "output_type": "stream",
          "name": "stdout",
          "text": [
            "162/162 [==============================] - 0s 2ms/step - loss: 0.4009\n"
          ]
        },
        {
          "output_type": "execute_result",
          "data": {
            "text/plain": [
              "0.400865375995636"
            ]
          },
          "metadata": {},
          "execution_count": 49
        }
      ]
    },
    {
      "cell_type": "code",
      "source": [
        "X_new = X_test[:3]    # pretend that these are new instances\n",
        "y_pred = model.predict(X_new)\n",
        "y_pred"
      ],
      "metadata": {
        "id": "vDe9MF1JffP0",
        "outputId": "7f9d85fb-929f-429b-bc2b-5c626a511461",
        "colab": {
          "base_uri": "https://localhost:8080/"
        }
      },
      "execution_count": 50,
      "outputs": [
        {
          "output_type": "stream",
          "name": "stderr",
          "text": [
            "WARNING:tensorflow:5 out of the last 6 calls to <function Model.make_predict_function.<locals>.predict_function at 0x7f5872455b90> triggered tf.function retracing. Tracing is expensive and the excessive number of tracings could be due to (1) creating @tf.function repeatedly in a loop, (2) passing tensors with different shapes, (3) passing Python objects instead of tensors. For (1), please define your @tf.function outside of the loop. For (2), @tf.function has reduce_retracing=True option that can avoid unnecessary retracing. For (3), please refer to https://www.tensorflow.org/guide/function#controlling_retracing and https://www.tensorflow.org/api_docs/python/tf/function for  more details.\n"
          ]
        },
        {
          "output_type": "stream",
          "name": "stdout",
          "text": [
            "1/1 [==============================] - 0s 43ms/step\n"
          ]
        },
        {
          "output_type": "execute_result",
          "data": {
            "text/plain": [
              "array([[0.40966448],\n",
              "       [1.7806084 ],\n",
              "       [3.283021  ]], dtype=float32)"
            ]
          },
          "metadata": {},
          "execution_count": 50
        }
      ]
    },
    {
      "cell_type": "code",
      "source": [
        "import matplotlib.pyplot as plt\n",
        "\n",
        "pd.DataFrame(history.history).plot(figsize=(8,5))\n",
        "plt.grid(True)\n",
        "plt.gca().set_ylim(0, 1)\n",
        "plt.show()"
      ],
      "metadata": {
        "id": "mSKss7mbkYwf",
        "outputId": "a8f32ca0-4f02-44bf-ebe3-28c3379ea882",
        "colab": {
          "base_uri": "https://localhost:8080/",
          "height": 324
        }
      },
      "execution_count": 51,
      "outputs": [
        {
          "output_type": "display_data",
          "data": {
            "text/plain": [
              "<Figure size 576x360 with 1 Axes>"
            ],
            "image/png": "[encoded data removed]"
          },
          "metadata": {
            "needs_background": "light"
          }
        }
      ]
    },
    {
      "cell_type": "code",
      "source": [
        "history.history\n"
      ],
      "metadata": {
        "id": "nkRSoWdFkvqK",
        "outputId": "3916d8b1-dd53-44e5-e8d9-eb3b0238db88",
        "colab": {
          "base_uri": "https://localhost:8080/"
        }
      },
      "execution_count": 52,
      "outputs": [
        {
          "output_type": "execute_result",
          "data": {
            "text/plain": [
              "{'loss': [1.6418712139129639,\n",
              "  0.704696536064148,\n",
              "  0.6345421075820923,\n",
              "  0.5977364182472229,\n",
              "  0.5706290006637573,\n",
              "  0.5472457408905029,\n",
              "  0.5287575125694275,\n",
              "  0.513012170791626,\n",
              "  0.4991583228111267,\n",
              "  0.48749929666519165,\n",
              "  0.47773417830467224,\n",
              "  0.46876275539398193,\n",
              "  0.46150997281074524,\n",
              "  0.45471757650375366,\n",
              "  0.44877079129219055,\n",
              "  0.44347068667411804,\n",
              "  0.43887749314308167,\n",
              "  0.43465662002563477,\n",
              "  0.4306175410747528,\n",
              "  0.4273228049278259,\n",
              "  0.42396265268325806,\n",
              "  0.42109695076942444,\n",
              "  0.4183303415775299,\n",
              "  0.41582560539245605,\n",
              "  0.4134701192378998,\n",
              "  0.4114833176136017,\n",
              "  0.40956586599349976,\n",
              "  0.4077361226081848,\n",
              "  0.40610384941101074,\n",
              "  0.40450358390808105],\n",
              " 'val_loss': [0.8559520840644836,\n",
              "  0.6530762910842896,\n",
              "  0.609897792339325,\n",
              "  0.5658424496650696,\n",
              "  0.5354601740837097,\n",
              "  0.5173057913780212,\n",
              "  0.508107602596283,\n",
              "  0.47992199659347534,\n",
              "  0.46895644068717957,\n",
              "  0.46563631296157837,\n",
              "  0.44823727011680603,\n",
              "  0.4479142129421234,\n",
              "  0.42957571148872375,\n",
              "  0.4232998490333557,\n",
              "  0.41755104064941406,\n",
              "  0.41229447722435,\n",
              "  0.4071497619152069,\n",
              "  0.4036763906478882,\n",
              "  0.400029718875885,\n",
              "  0.39693641662597656,\n",
              "  0.39376750588417053,\n",
              "  0.3912827670574188,\n",
              "  0.3883511424064636,\n",
              "  0.3871009945869446,\n",
              "  0.3856947124004364,\n",
              "  0.3818413019180298,\n",
              "  0.3799608051776886,\n",
              "  0.3794289529323578,\n",
              "  0.376897931098938,\n",
              "  0.37632274627685547]}"
            ]
          },
          "metadata": {},
          "execution_count": 52
        }
      ]
    }
  ]
}