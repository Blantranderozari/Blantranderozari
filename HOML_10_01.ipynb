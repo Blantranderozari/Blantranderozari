{
  "nbformat": 4,
  "nbformat_minor": 0,
  "metadata": {
    "colab": {
      "provenance": [],
      "collapsed_sections": [],
      "authorship_tag": "ABX9TyOhy6JnkBhFXSGCyGRXF6P+",
      "include_colab_link": true
    },
    "kernelspec": {
      "name": "python3",
      "display_name": "Python 3"
    },
    "language_info": {
      "name": "python"
    }
  },
  "cells": [
    {
      "cell_type": "markdown",
      "metadata": {
        "id": "view-in-github",
        "colab_type": "text"
      },
      "source": [
        "<a href=\"https://colab.research.google.com/github/Blantranderozari/Blantranderozari/blob/main/HOML_10_01.ipynb\" target=\"_parent\"><img src=\"https://colab.research.google.com/assets/colab-badge.svg\" alt=\"Open In Colab\"/></a>"
      ]
    },
    {
      "cell_type": "markdown",
      "source": [
        "# Building Image Classifier using Sequentials API\n",
        "\n",
        "Taken from Hands-on Machine Learning with Scikit-Learn and Tensorflow"
      ],
      "metadata": {
        "id": "RoBlY6iZ0CN2"
      }
    },
    {
      "cell_type": "code",
      "source": [],
      "metadata": {
        "id": "U6JT_v320BhZ"
      },
      "execution_count": null,
      "outputs": []
    },
    {
      "cell_type": "code",
      "execution_count": null,
      "metadata": {
        "id": "F8nYOSUAztYU"
      },
      "outputs": [],
      "source": []
    }
  ]
}